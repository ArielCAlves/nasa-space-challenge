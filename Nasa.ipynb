{
 "cells": [
  {
   "cell_type": "code",
   "execution_count": 1,
   "id": "335a889b",
   "metadata": {},
   "outputs": [],
   "source": [
    "import pandas as pd\n",
    "import numpy as np\n",
    "import matplotlib.pyplot as plt\n",
    "import seaborn as sns\n",
    "\n",
    "from sklearn.preprocessing import StandardScaler\n",
    "from sklearn.decomposition import PCA\n",
    "from sklearn.impute import SimpleImputer\n",
    "from sklearn.model_selection import train_test_split\n",
    "from sklearn.metrics import classification_report, confusion_matrix\n",
    "from tensorflow.keras.models import Sequential\n",
    "from tensorflow.keras.layers import Dense\n",
    "from tensorflow.keras.optimizers import Adam\n",
    "from tensorflow.keras.callbacks import ModelCheckpoint\n",
    "from tensorflow.keras.models import load_model\n",
    "\n",
    "import warnings\n",
    "warnings.filterwarnings(\"ignore\")"
   ]
  },
  {
   "cell_type": "code",
   "execution_count": 9,
   "id": "1396e5d7",
   "metadata": {},
   "outputs": [],
   "source": [
    "kp_df = pd.read_csv(\n",
    "    './datasets/kp.csv',\n",
    "    sep='\\s+',  # Está separado com espaço em branco\n",
    "    header=None,\n",
    "    parse_dates={'Datetime': [0, 1, 2, 3]},  # Especifica as colunas a serem combinadas para formar a coluna Datetime\n",
    "    date_parser=lambda x: pd.to_datetime(x, format='%Y %m %d %H.%M')\n",
    ")\n",
    "\n",
    "kp_df.set_index('Datetime', inplace=True)"
   ]
  },
  {
   "cell_type": "code",
   "execution_count": 10,
   "id": "22579c51",
   "metadata": {},
   "outputs": [],
   "source": [
    "arquivos_csv = [\n",
    "    './datasets/dsc_fc_summed_spectra_2017_v01.csv',\n",
    "    './datasets/dsc_fc_summed_spectra_2018_v01.csv',\n",
    "    './datasets/dsc_fc_summed_spectra_2019_v01.csv',\n",
    "    './datasets/dsc_fc_summed_spectra_2020_v01.csv',\n",
    "    './datasets/dsc_fc_summed_spectra_2021_v01.csv',\n",
    "    './datasets/dsc_fc_summed_spectra_2022_v01.csv',\n",
    "    './datasets/dsc_fc_summed_spectra_2023_v01.csv'\n",
    "]\n",
    "\n",
    "dfs = [pd.read_csv(arquivo, parse_dates=[0], header=None).fillna(0) for arquivo in arquivos_csv]\n",
    "df = pd.concat(dfs, ignore_index=True)\n",
    "df.set_index(df.columns[0], inplace=True)"
   ]
  },
  {
   "cell_type": "code",
   "execution_count": 11,
   "id": "c7dad6e4",
   "metadata": {},
   "outputs": [
    {
     "data": {
      "text/plain": [
       "(2993760, 53)"
      ]
     },
     "execution_count": 11,
     "metadata": {},
     "output_type": "execute_result"
    }
   ],
   "source": [
    "# Linhas e Colunas\n",
    "df.shape"
   ]
  },
  {
   "cell_type": "code",
   "execution_count": 12,
   "id": "9d22a8c2",
   "metadata": {},
   "outputs": [],
   "source": [
    "# Resample para colocar os dados em formato de hora em hora\n",
    "df = df.resample('H').median()"
   ]
  },
  {
   "cell_type": "code",
   "execution_count": 13,
   "id": "00100e97",
   "metadata": {},
   "outputs": [
    {
     "data": {
      "text/plain": [
       "(55512, 53)"
      ]
     },
     "execution_count": 13,
     "metadata": {},
     "output_type": "execute_result"
    }
   ],
   "source": [
    "# Linhas e Colunas\n",
    "df.shape"
   ]
  },
  {
   "cell_type": "markdown",
   "id": "8efe7a8d",
   "metadata": {},
   "source": [
    "#### Merge dos dataframes\n",
    "- KP: detalhes sobre magnetismo solar\n",
    "- Spectra: detalhes sobre vento solar"
   ]
  },
  {
   "cell_type": "code",
   "execution_count": 14,
   "id": "fce0934d",
   "metadata": {},
   "outputs": [],
   "source": [
    "df.columns = df.columns.astype(str)\n",
    "kp_df.columns = kp_df.columns.astype(str)\n",
    "\n",
    "df = df.merge(kp_df, how='inner', left_index=True, right_index=True)"
   ]
  },
  {
   "cell_type": "markdown",
   "id": "6946df8a",
   "metadata": {},
   "source": [
    "### Identificação da quantidade de componentes necessários para explicar pelo menos 80% da variância acumulada"
   ]
  },
  {
   "cell_type": "code",
   "execution_count": 18,
   "id": "6682abde",
   "metadata": {},
   "outputs": [
    {
     "data": {
      "image/png": "[encoded data removed]",
      "text/plain": [
       "<Figure size 720x432 with 1 Axes>"
      ]
     },
     "metadata": {
      "needs_background": "light"
     },
     "output_type": "display_data"
    }
   ],
   "source": [
    "# Identificação de colunas com um percentual alto de valores nulos (50% neste caso)\n",
    "limiar_percentual_nulos = 0.5\n",
    "colunas_com_muitos_nulos = df.columns[df.isnull().median() > limiar_percentual_nulos]\n",
    "\n",
    "# Remoção das colunas com muitos valores nulos\n",
    "df = df.drop(columns=colunas_com_muitos_nulos)\n",
    "\n",
    "# Imputação dos valores NaN a partir da mediana\n",
    "imputer = SimpleImputer(strategy='median')\n",
    "df_imputado = pd.DataFrame(imputer.fit_transform(df), columns=df.columns, index=df.index)\n",
    "\n",
    "# Padronize dos dados\n",
    "scaler = StandardScaler()\n",
    "df_padronizado = pd.DataFrame(scaler.fit_transform(df_imputado), columns=df_imputado.columns, index=df_imputado.index)\n",
    "\n",
    "# Aplicação do PCA para redução de dimensionalidade\n",
    "num_componentes = 8  # Número definido com base na variância explicada > 80% (testado anteriormente)\n",
    "pca = PCA(n_components=num_componentes)\n",
    "df_reduzido = pd.DataFrame(pca.fit_transform(df_padronizado), columns=[f'PC{i+1}' for i in range(num_componentes)], index=df_padronizado.index)\n",
    "variância_explicada = np.cumsum(pca.explained_variance_ratio_)\n",
    "\n",
    "# Gráfico de barras para visualizar a variância explicada\n",
    "plt.figure(figsize=(10, 6))\n",
    "plt.bar(range(1, num_componentes + 1), variância_explicada, alpha=0.7, align='center', label='Variância Explicada Acumulada')\n",
    "plt.step(range(1, num_componentes + 1), variância_explicada, where='mid', label='Variância Explicada Cumulativa', color='red')\n",
    "plt.xlabel('Número de Componentes Principais')\n",
    "plt.ylabel('Variância Explicada')\n",
    "plt.legend(loc='best')\n",
    "plt.title('Variância Explicada pelos Componentes Principais')\n",
    "plt.grid(True)\n",
    "plt.show()"
   ]
  },
  {
   "cell_type": "code",
   "execution_count": 19,
   "id": "07a008fe",
   "metadata": {
    "scrolled": true
   },
   "outputs": [
    {
     "name": "stderr",
     "output_type": "stream",
     "text": [
      "WARNING:absl:`lr` is deprecated in Keras optimizer, please use `learning_rate` or use the legacy optimizer, e.g.,tf.keras.optimizers.legacy.Adam.\n"
     ]
    },
    {
     "name": "stdout",
     "output_type": "stream",
     "text": [
      "Epoch 1/50\n",
      "368/371 [============================>.] - ETA: 0s - loss: 0.0925 - accuracy: 0.9733\n",
      "Epoch 1: val_accuracy improved from -inf to 0.98413, saving model to melhor_modelo.h5\n",
      "371/371 [==============================] - 2s 3ms/step - loss: 0.0921 - accuracy: 0.9733 - val_loss: 0.0367 - val_accuracy: 0.9841\n",
      "Epoch 2/50\n",
      "351/371 [===========================>..] - ETA: 0s - loss: 0.0257 - accuracy: 0.9913\n",
      "Epoch 2: val_accuracy improved from 0.98413 to 0.99189, saving model to melhor_modelo.h5\n",
      "371/371 [==============================] - 1s 2ms/step - loss: 0.0255 - accuracy: 0.9911 - val_loss: 0.0234 - val_accuracy: 0.9919\n",
      "Epoch 3/50\n",
      "344/371 [==========================>...] - ETA: 0s - loss: 0.0207 - accuracy: 0.9926\n",
      "Epoch 3: val_accuracy did not improve from 0.99189\n",
      "371/371 [==============================] - 1s 2ms/step - loss: 0.0204 - accuracy: 0.9926 - val_loss: 0.0208 - val_accuracy: 0.9919\n",
      "Epoch 4/50\n",
      "364/371 [============================>.] - ETA: 0s - loss: 0.0185 - accuracy: 0.9931\n",
      "Epoch 4: val_accuracy improved from 0.99189 to 0.99358, saving model to melhor_modelo.h5\n",
      "371/371 [==============================] - 1s 2ms/step - loss: 0.0187 - accuracy: 0.9931 - val_loss: 0.0190 - val_accuracy: 0.9936\n",
      "Epoch 5/50\n",
      "367/371 [============================>.] - ETA: 0s - loss: 0.0168 - accuracy: 0.9931\n",
      "Epoch 5: val_accuracy did not improve from 0.99358\n",
      "371/371 [==============================] - 1s 2ms/step - loss: 0.0169 - accuracy: 0.9930 - val_loss: 0.0195 - val_accuracy: 0.9916\n",
      "Epoch 6/50\n",
      "357/371 [===========================>..] - ETA: 0s - loss: 0.0165 - accuracy: 0.9932\n",
      "Epoch 6: val_accuracy did not improve from 0.99358\n",
      "371/371 [==============================] - 1s 2ms/step - loss: 0.0162 - accuracy: 0.9934 - val_loss: 0.0194 - val_accuracy: 0.9922\n",
      "Epoch 7/50\n",
      "344/371 [==========================>...] - ETA: 0s - loss: 0.0155 - accuracy: 0.9932\n",
      "Epoch 7: val_accuracy did not improve from 0.99358\n",
      "371/371 [==============================] - 1s 2ms/step - loss: 0.0155 - accuracy: 0.9932 - val_loss: 0.0203 - val_accuracy: 0.9905\n",
      "Epoch 8/50\n",
      "335/371 [==========================>...] - ETA: 0s - loss: 0.0133 - accuracy: 0.9957\n",
      "Epoch 8: val_accuracy did not improve from 0.99358\n",
      "371/371 [==============================] - 1s 2ms/step - loss: 0.0136 - accuracy: 0.9953 - val_loss: 0.0222 - val_accuracy: 0.9922\n",
      "Epoch 9/50\n",
      "371/371 [==============================] - ETA: 0s - loss: 0.0153 - accuracy: 0.9940\n",
      "Epoch 9: val_accuracy did not improve from 0.99358\n",
      "371/371 [==============================] - 1s 2ms/step - loss: 0.0153 - accuracy: 0.9940 - val_loss: 0.0227 - val_accuracy: 0.9899\n",
      "Epoch 10/50\n",
      "346/371 [==========================>...] - ETA: 0s - loss: 0.0137 - accuracy: 0.9943\n",
      "Epoch 10: val_accuracy improved from 0.99358 to 0.99392, saving model to melhor_modelo.h5\n",
      "371/371 [==============================] - 1s 2ms/step - loss: 0.0138 - accuracy: 0.9943 - val_loss: 0.0168 - val_accuracy: 0.9939\n",
      "Epoch 11/50\n",
      "358/371 [===========================>..] - ETA: 0s - loss: 0.0139 - accuracy: 0.9946\n",
      "Epoch 11: val_accuracy did not improve from 0.99392\n",
      "371/371 [==============================] - 1s 2ms/step - loss: 0.0139 - accuracy: 0.9944 - val_loss: 0.0190 - val_accuracy: 0.9922\n",
      "Epoch 12/50\n",
      "339/371 [==========================>...] - ETA: 0s - loss: 0.0131 - accuracy: 0.9946\n",
      "Epoch 12: val_accuracy did not improve from 0.99392\n",
      "371/371 [==============================] - 1s 2ms/step - loss: 0.0131 - accuracy: 0.9945 - val_loss: 0.0178 - val_accuracy: 0.9936\n",
      "Epoch 13/50\n",
      "338/371 [==========================>...] - ETA: 0s - loss: 0.0115 - accuracy: 0.9955\n",
      "Epoch 13: val_accuracy did not improve from 0.99392\n",
      "371/371 [==============================] - 1s 2ms/step - loss: 0.0118 - accuracy: 0.9955 - val_loss: 0.0171 - val_accuracy: 0.9922\n",
      "Epoch 14/50\n",
      "363/371 [============================>.] - ETA: 0s - loss: 0.0128 - accuracy: 0.9942\n",
      "Epoch 14: val_accuracy did not improve from 0.99392\n",
      "371/371 [==============================] - 1s 2ms/step - loss: 0.0130 - accuracy: 0.9941 - val_loss: 0.0233 - val_accuracy: 0.9909\n",
      "Epoch 15/50\n",
      "344/371 [==========================>...] - ETA: 0s - loss: 0.0120 - accuracy: 0.9949\n",
      "Epoch 15: val_accuracy did not improve from 0.99392\n",
      "371/371 [==============================] - 1s 2ms/step - loss: 0.0118 - accuracy: 0.9950 - val_loss: 0.0188 - val_accuracy: 0.9926\n",
      "Epoch 16/50\n",
      "347/371 [===========================>..] - ETA: 0s - loss: 0.0120 - accuracy: 0.9948\n",
      "Epoch 16: val_accuracy did not improve from 0.99392\n",
      "371/371 [==============================] - 1s 2ms/step - loss: 0.0118 - accuracy: 0.9948 - val_loss: 0.0185 - val_accuracy: 0.9926\n",
      "Epoch 17/50\n",
      "345/371 [==========================>...] - ETA: 0s - loss: 0.0107 - accuracy: 0.9955\n",
      "Epoch 17: val_accuracy did not improve from 0.99392\n",
      "371/371 [==============================] - 1s 2ms/step - loss: 0.0106 - accuracy: 0.9955 - val_loss: 0.0181 - val_accuracy: 0.9939\n",
      "Epoch 18/50\n",
      "357/371 [===========================>..] - ETA: 0s - loss: 0.0115 - accuracy: 0.9958\n",
      "Epoch 18: val_accuracy did not improve from 0.99392\n",
      "371/371 [==============================] - 1s 2ms/step - loss: 0.0118 - accuracy: 0.9957 - val_loss: 0.0191 - val_accuracy: 0.9936\n",
      "Epoch 19/50\n",
      "343/371 [==========================>...] - ETA: 0s - loss: 0.0103 - accuracy: 0.9960\n",
      "Epoch 19: val_accuracy did not improve from 0.99392\n",
      "371/371 [==============================] - 1s 2ms/step - loss: 0.0108 - accuracy: 0.9956 - val_loss: 0.0295 - val_accuracy: 0.9899\n",
      "Epoch 20/50\n",
      "354/371 [===========================>..] - ETA: 0s - loss: 0.0127 - accuracy: 0.9944\n",
      "Epoch 20: val_accuracy did not improve from 0.99392\n",
      "371/371 [==============================] - 1s 2ms/step - loss: 0.0125 - accuracy: 0.9945 - val_loss: 0.0158 - val_accuracy: 0.9936\n",
      "Epoch 21/50\n",
      "362/371 [============================>.] - ETA: 0s - loss: 0.0100 - accuracy: 0.9953\n",
      "Epoch 21: val_accuracy improved from 0.99392 to 0.99426, saving model to melhor_modelo.h5\n",
      "371/371 [==============================] - 1s 2ms/step - loss: 0.0098 - accuracy: 0.9954 - val_loss: 0.0193 - val_accuracy: 0.9943\n",
      "Epoch 22/50\n",
      "355/371 [===========================>..] - ETA: 0s - loss: 0.0111 - accuracy: 0.9951\n",
      "Epoch 22: val_accuracy did not improve from 0.99426\n",
      "371/371 [==============================] - 1s 2ms/step - loss: 0.0109 - accuracy: 0.9952 - val_loss: 0.0155 - val_accuracy: 0.9932\n",
      "Epoch 23/50\n",
      "369/371 [============================>.] - ETA: 0s - loss: 0.0104 - accuracy: 0.9953\n",
      "Epoch 23: val_accuracy did not improve from 0.99426\n",
      "371/371 [==============================] - 1s 2ms/step - loss: 0.0105 - accuracy: 0.9954 - val_loss: 0.0159 - val_accuracy: 0.9936\n",
      "Epoch 24/50\n",
      "364/371 [============================>.] - ETA: 0s - loss: 0.0101 - accuracy: 0.9961\n",
      "Epoch 24: val_accuracy did not improve from 0.99426\n",
      "371/371 [==============================] - 1s 2ms/step - loss: 0.0102 - accuracy: 0.9959 - val_loss: 0.0195 - val_accuracy: 0.9929\n",
      "Epoch 25/50\n",
      "344/371 [==========================>...] - ETA: 0s - loss: 0.0099 - accuracy: 0.9956\n",
      "Epoch 25: val_accuracy did not improve from 0.99426\n",
      "371/371 [==============================] - 1s 2ms/step - loss: 0.0097 - accuracy: 0.9957 - val_loss: 0.0219 - val_accuracy: 0.9912\n",
      "Epoch 26/50\n",
      "365/371 [============================>.] - ETA: 0s - loss: 0.0096 - accuracy: 0.9956\n",
      "Epoch 26: val_accuracy did not improve from 0.99426\n",
      "371/371 [==============================] - 1s 2ms/step - loss: 0.0095 - accuracy: 0.9957 - val_loss: 0.0177 - val_accuracy: 0.9929\n",
      "Epoch 27/50\n",
      "340/371 [==========================>...] - ETA: 0s - loss: 0.0100 - accuracy: 0.9960\n",
      "Epoch 27: val_accuracy did not improve from 0.99426\n",
      "371/371 [==============================] - 1s 2ms/step - loss: 0.0097 - accuracy: 0.9961 - val_loss: 0.0197 - val_accuracy: 0.9929\n",
      "Epoch 28/50\n",
      "368/371 [============================>.] - ETA: 0s - loss: 0.0114 - accuracy: 0.9952\n",
      "Epoch 28: val_accuracy did not improve from 0.99426\n",
      "371/371 [==============================] - 1s 2ms/step - loss: 0.0114 - accuracy: 0.9953 - val_loss: 0.0164 - val_accuracy: 0.9943\n",
      "Epoch 29/50\n",
      "354/371 [===========================>..] - ETA: 0s - loss: 0.0091 - accuracy: 0.9964\n",
      "Epoch 29: val_accuracy improved from 0.99426 to 0.99527, saving model to melhor_modelo.h5\n"
     ]
    },
    {
     "name": "stdout",
     "output_type": "stream",
     "text": [
      "371/371 [==============================] - 1s 2ms/step - loss: 0.0090 - accuracy: 0.9965 - val_loss: 0.0139 - val_accuracy: 0.9953\n",
      "Epoch 30/50\n",
      "365/371 [============================>.] - ETA: 0s - loss: 0.0078 - accuracy: 0.9967\n",
      "Epoch 30: val_accuracy did not improve from 0.99527\n",
      "371/371 [==============================] - 1s 2ms/step - loss: 0.0077 - accuracy: 0.9967 - val_loss: 0.0224 - val_accuracy: 0.9919\n",
      "Epoch 31/50\n",
      "355/371 [===========================>..] - ETA: 0s - loss: 0.0092 - accuracy: 0.9960\n",
      "Epoch 31: val_accuracy did not improve from 0.99527\n",
      "371/371 [==============================] - 1s 2ms/step - loss: 0.0089 - accuracy: 0.9962 - val_loss: 0.0160 - val_accuracy: 0.9943\n",
      "Epoch 32/50\n",
      "347/371 [===========================>..] - ETA: 0s - loss: 0.0078 - accuracy: 0.9968\n",
      "Epoch 32: val_accuracy did not improve from 0.99527\n",
      "371/371 [==============================] - 1s 2ms/step - loss: 0.0080 - accuracy: 0.9967 - val_loss: 0.0148 - val_accuracy: 0.9943\n",
      "Epoch 33/50\n",
      "352/371 [===========================>..] - ETA: 0s - loss: 0.0086 - accuracy: 0.9957\n",
      "Epoch 33: val_accuracy did not improve from 0.99527\n",
      "371/371 [==============================] - 1s 2ms/step - loss: 0.0086 - accuracy: 0.9958 - val_loss: 0.0154 - val_accuracy: 0.9932\n",
      "Epoch 34/50\n",
      "348/371 [===========================>..] - ETA: 0s - loss: 0.0099 - accuracy: 0.9956\n",
      "Epoch 34: val_accuracy did not improve from 0.99527\n",
      "371/371 [==============================] - 1s 2ms/step - loss: 0.0106 - accuracy: 0.9954 - val_loss: 0.0226 - val_accuracy: 0.9919\n",
      "Epoch 35/50\n",
      "342/371 [==========================>...] - ETA: 0s - loss: 0.0079 - accuracy: 0.9964\n",
      "Epoch 35: val_accuracy improved from 0.99527 to 0.99561, saving model to melhor_modelo.h5\n",
      "371/371 [==============================] - 1s 2ms/step - loss: 0.0078 - accuracy: 0.9965 - val_loss: 0.0139 - val_accuracy: 0.9956\n",
      "Epoch 36/50\n",
      "344/371 [==========================>...] - ETA: 0s - loss: 0.0072 - accuracy: 0.9973\n",
      "Epoch 36: val_accuracy did not improve from 0.99561\n",
      "371/371 [==============================] - 1s 2ms/step - loss: 0.0070 - accuracy: 0.9973 - val_loss: 0.0161 - val_accuracy: 0.9943\n",
      "Epoch 37/50\n",
      "348/371 [===========================>..] - ETA: 0s - loss: 0.0074 - accuracy: 0.9966\n",
      "Epoch 37: val_accuracy did not improve from 0.99561\n",
      "371/371 [==============================] - 1s 2ms/step - loss: 0.0073 - accuracy: 0.9967 - val_loss: 0.0152 - val_accuracy: 0.9946\n",
      "Epoch 38/50\n",
      "351/371 [===========================>..] - ETA: 0s - loss: 0.0066 - accuracy: 0.9974\n",
      "Epoch 38: val_accuracy did not improve from 0.99561\n",
      "371/371 [==============================] - 1s 2ms/step - loss: 0.0069 - accuracy: 0.9974 - val_loss: 0.0141 - val_accuracy: 0.9946\n",
      "Epoch 39/50\n",
      "351/371 [===========================>..] - ETA: 0s - loss: 0.0074 - accuracy: 0.9970\n",
      "Epoch 39: val_accuracy did not improve from 0.99561\n",
      "371/371 [==============================] - 1s 2ms/step - loss: 0.0072 - accuracy: 0.9970 - val_loss: 0.0159 - val_accuracy: 0.9949\n",
      "Epoch 40/50\n",
      "353/371 [===========================>..] - ETA: 0s - loss: 0.0067 - accuracy: 0.9973\n",
      "Epoch 40: val_accuracy did not improve from 0.99561\n",
      "371/371 [==============================] - 1s 2ms/step - loss: 0.0069 - accuracy: 0.9971 - val_loss: 0.0126 - val_accuracy: 0.9953\n",
      "Epoch 41/50\n",
      "360/371 [============================>.] - ETA: 0s - loss: 0.0076 - accuracy: 0.9963\n",
      "Epoch 41: val_accuracy did not improve from 0.99561\n",
      "371/371 [==============================] - 1s 2ms/step - loss: 0.0075 - accuracy: 0.9964 - val_loss: 0.0143 - val_accuracy: 0.9949\n",
      "Epoch 42/50\n",
      "346/371 [==========================>...] - ETA: 0s - loss: 0.0056 - accuracy: 0.9980\n",
      "Epoch 42: val_accuracy did not improve from 0.99561\n",
      "371/371 [==============================] - 1s 2ms/step - loss: 0.0063 - accuracy: 0.9978 - val_loss: 0.0145 - val_accuracy: 0.9943\n",
      "Epoch 43/50\n",
      "337/371 [==========================>...] - ETA: 0s - loss: 0.0061 - accuracy: 0.9975\n",
      "Epoch 43: val_accuracy did not improve from 0.99561\n",
      "371/371 [==============================] - 1s 2ms/step - loss: 0.0066 - accuracy: 0.9972 - val_loss: 0.0154 - val_accuracy: 0.9946\n",
      "Epoch 44/50\n",
      "354/371 [===========================>..] - ETA: 0s - loss: 0.0064 - accuracy: 0.9975\n",
      "Epoch 44: val_accuracy did not improve from 0.99561\n",
      "371/371 [==============================] - 1s 2ms/step - loss: 0.0062 - accuracy: 0.9976 - val_loss: 0.0129 - val_accuracy: 0.9946\n",
      "Epoch 45/50\n",
      "342/371 [==========================>...] - ETA: 0s - loss: 0.0053 - accuracy: 0.9978\n",
      "Epoch 45: val_accuracy did not improve from 0.99561\n",
      "371/371 [==============================] - 1s 2ms/step - loss: 0.0052 - accuracy: 0.9979 - val_loss: 0.0166 - val_accuracy: 0.9936\n",
      "Epoch 46/50\n",
      "359/371 [============================>.] - ETA: 0s - loss: 0.0074 - accuracy: 0.9969\n",
      "Epoch 46: val_accuracy did not improve from 0.99561\n",
      "371/371 [==============================] - 1s 2ms/step - loss: 0.0074 - accuracy: 0.9969 - val_loss: 0.0152 - val_accuracy: 0.9946\n",
      "Epoch 47/50\n",
      "338/371 [==========================>...] - ETA: 0s - loss: 0.0062 - accuracy: 0.9968\n",
      "Epoch 47: val_accuracy did not improve from 0.99561\n",
      "371/371 [==============================] - 1s 2ms/step - loss: 0.0063 - accuracy: 0.9967 - val_loss: 0.0137 - val_accuracy: 0.9956\n",
      "Epoch 48/50\n",
      "349/371 [===========================>..] - ETA: 0s - loss: 0.0074 - accuracy: 0.9965\n",
      "Epoch 48: val_accuracy did not improve from 0.99561\n",
      "371/371 [==============================] - 1s 2ms/step - loss: 0.0072 - accuracy: 0.9966 - val_loss: 0.0170 - val_accuracy: 0.9946\n",
      "Epoch 49/50\n",
      "361/371 [============================>.] - ETA: 0s - loss: 0.0058 - accuracy: 0.9975\n",
      "Epoch 49: val_accuracy did not improve from 0.99561\n",
      "371/371 [==============================] - 1s 2ms/step - loss: 0.0056 - accuracy: 0.9976 - val_loss: 0.0215 - val_accuracy: 0.9932\n",
      "Epoch 50/50\n",
      "357/371 [===========================>..] - ETA: 0s - loss: 0.0065 - accuracy: 0.9972\n",
      "Epoch 50: val_accuracy did not improve from 0.99561\n",
      "371/371 [==============================] - 1s 2ms/step - loss: 0.0066 - accuracy: 0.9970 - val_loss: 0.0165 - val_accuracy: 0.9953\n",
      "116/116 [==============================] - 0s 950us/step\n"
     ]
    }
   ],
   "source": [
    "# Nome do modelo usado para checkpoint\n",
    "checkpoint_path = \"melhor_modelo.h5\"\n",
    "\n",
    "# Callback ModelCheckpoint para monitorar a métrica e salvar o melhor modelo\n",
    "model_checkpoint = ModelCheckpoint(\n",
    "    checkpoint_path,\n",
    "    monitor='val_accuracy',  # Monitora a acurácia\n",
    "    save_best_only=True,      # Salva apenas o melhor modelo\n",
    "    mode='max',               # Salva com base no aumento da métrica\n",
    "    verbose=1\n",
    ")\n",
    "\n",
    "limiar_anomalia = 2.0\n",
    "\n",
    "# Label anomalia (0 para não, 1 para sim)\n",
    "df_reduzido['anomalia'] = np.where(df_reduzido['PC1'] > limiar_anomalia, 1, 0)\n",
    "\n",
    "# Separação dos dados X e y (target)\n",
    "X = df_reduzido.drop(columns=['anomalia']).values\n",
    "y = df_reduzido['anomalia'].values\n",
    "\n",
    "# Divisão dos dados em conjuntos de treinamento e teste\n",
    "X_train, X_test, y_train, y_test = train_test_split(X, y, test_size=0.2, random_state=42)\n",
    "\n",
    "# Criação do modelo de classificação\n",
    "model = Sequential()\n",
    "model.add(Dense(64, input_dim=num_componentes, activation='relu'))\n",
    "model.add(Dense(32, activation='relu'))\n",
    "model.add(Dense(1, activation='sigmoid'))  # Saída binária (0 ou 1) para classificação de anomalias\n",
    "\n",
    "# Compilação do modelo\n",
    "model.compile(loss='binary_crossentropy', optimizer=Adam(lr=0.001), metrics=['accuracy'])\n",
    "\n",
    "# Treinamento com o callback ModelCheckpoint\n",
    "history = model.fit(\n",
    "    X_train,\n",
    "    y_train,\n",
    "    epochs=50,\n",
    "    batch_size=32,\n",
    "    validation_split=0.2,     # conjunto de validação\n",
    "    callbacks=[model_checkpoint]  # callback ModelCheckpoint\n",
    ")\n",
    "\n",
    "# Carregamento do melhor modelo salvo\n",
    "melhor_modelo = load_model(checkpoint_path)\n",
    "\n",
    "# Avaliação do melhor modelo\n",
    "y_pred_melhor = melhor_modelo.predict(X_test)\n",
    "y_pred_melhor = (y_pred_melhor > 0.5)  # Threshold para converter para 0 ou 1\n"
   ]
  },
  {
   "cell_type": "code",
   "execution_count": 20,
   "id": "a4ee1fc2",
   "metadata": {},
   "outputs": [
    {
     "data": {
      "image/png": "[encoded data removed]",
      "text/plain": [
       "<Figure size 576x432 with 1 Axes>"
      ]
     },
     "metadata": {
      "needs_background": "light"
     },
     "output_type": "display_data"
    },
    {
     "name": "stdout",
     "output_type": "stream",
     "text": [
      "              precision    recall  f1-score   support\n",
      "\n",
      "           0       1.00      0.99      1.00      2392\n",
      "           1       0.99      1.00      0.99      1309\n",
      "\n",
      "    accuracy                           1.00      3701\n",
      "   macro avg       0.99      1.00      0.99      3701\n",
      "weighted avg       1.00      1.00      1.00      3701\n",
      "\n"
     ]
    }
   ],
   "source": [
    "conf_matrix = confusion_matrix(y_test, y_pred_melhor)\n",
    "\n",
    "# Confusion Matrix\n",
    "plt.figure(figsize=(8, 6))\n",
    "sns.heatmap(conf_matrix, annot=True, fmt='d', cmap='Blues', cbar=False)\n",
    "plt.xlabel('Predicted')\n",
    "plt.ylabel('Actual')\n",
    "plt.title('Confusion Matrix')\n",
    "plt.show()\n",
    "\n",
    "# Métricas de classificação\n",
    "print(classification_report(y_test, y_pred_melhor))"
   ]
  }
 ],
 "metadata": {
  "kernelspec": {
   "display_name": "Python 3 (ipykernel)",
   "language": "python",
   "name": "python3"
  },
  "language_info": {
   "codemirror_mode": {
    "name": "ipython",
    "version": 3
   },
   "file_extension": ".py",
   "mimetype": "text/x-python",
   "name": "python",
   "nbconvert_exporter": "python",
   "pygments_lexer": "ipython3",
   "version": "3.9.12"
  }
 },
 "nbformat": 4,
 "nbformat_minor": 5
}
